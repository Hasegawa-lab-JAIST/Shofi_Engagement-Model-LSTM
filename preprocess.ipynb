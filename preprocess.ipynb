{
 "cells": [
  {
   "cell_type": "code",
   "execution_count": 1,
   "id": "happy-instrumentation",
   "metadata": {},
   "outputs": [
    {
     "output_type": "stream",
     "name": "stderr",
     "text": [
      "Using TensorFlow backend.\n"
     ]
    }
   ],
   "source": [
    "import numpy as np\n",
    "import pandas as pd\n",
    "from datetime import datetime\n",
    "import pickle\n",
    "\n",
    "from keras.models import Sequential, Input\n",
    "from keras.layers import *\n",
    "# from keras.layers import Attention\n",
    "from keras.optimizers import *\n",
    "import matplotlib.pyplot as plt\n",
    "from livelossplot.tf_keras import PlotLossesCallback\n",
    "from keras.callbacks import ModelCheckpoint, ReduceLROnPlateau\n",
    "from keras.utils import to_categorical\n",
    "\n",
    "from sklearn.preprocessing import MinMaxScaler, StandardScaler, LabelEncoder\n",
    "from sklearn.decomposition import PCA\n",
    "from sklearn import decomposition\n",
    "from sklearn.metrics import mean_squared_error, confusion_matrix, accuracy_score, recall_score, precision_score\n",
    "from sklearn.feature_selection import SelectKBest\n",
    "from sklearn.feature_selection import f_classif\n",
    "from sklearn.model_selection import KFold, StratifiedKFold\n",
    "\n",
    "from collections import Counter\n",
    "from imblearn.over_sampling import SMOTE\n",
    "from imblearn.over_sampling import RandomOverSampler\n",
    "from imblearn.under_sampling import RandomUnderSampler\n",
    "import seaborn as sns\n",
    "\n",
    "from sklearn.model_selection import KFold, cross_val_score\n",
    "%matplotlib inline\n",
    "# %matplotlib notebook"
   ]
  },
  {
   "cell_type": "markdown",
   "id": "intended-running",
   "metadata": {},
   "source": [
    "# 1. Load Data and Pre-process"
   ]
  },
  {
   "cell_type": "markdown",
   "id": "auburn-texas",
   "metadata": {},
   "source": [
    "## [Case 1] Averaged data input"
   ]
  },
  {
   "cell_type": "code",
   "execution_count": 12,
   "id": "opposite-passing",
   "metadata": {},
   "outputs": [],
   "source": [
    "#load data\n",
    "def load_data(datafile):\n",
    "    df = pd.read_csv(datafile)\n",
    "    df = df.drop(df.columns[0], axis=1)\n",
    "    return df\n",
    "\n",
    "#Split features and label\n",
    "def split_label(df):\n",
    "    df = np.array(df)\n",
    "    Y = df[:,-1]\n",
    "#     print('Y original =', Y)\n",
    "#     Y = np.where(Y==1, 0, Y) #combine label 0 and 1\n",
    "#     Y = np.where(Y==2, 1, Y) #change label 2 to 1\n",
    "#     Y = np.where(Y==3, 2, Y) #change label 3 to 2\n",
    "#     print('Y before encode =', Y)\n",
    "    Y = LabelEncoder().fit_transform(Y) #encode label value as label variable\n",
    "#     Y = [[x] for x in Y]\n",
    "#     Y = np.array(Y)\n",
    "#     print('Y after encode =', Y)\n",
    "    X = df[:,0:-1]    \n",
    "    return X, Y\n",
    "\n",
    "#Resampling\n",
    "def resample(label0,label1,label2,X,Y):\n",
    "    #downsampling\n",
    "    strategydown = {0:label0, 1:label1, 2:label2} \n",
    "    downsample = RandomUnderSampler(sampling_strategy=strategydown) \n",
    "    X_resampled, Y_resampled = downsample.fit_resample(X, Y) #fit and apply transform\n",
    "    \n",
    "    #oversampling\n",
    "    oversample = SMOTE()#sampling_strategy='not minority'\n",
    "    X_resampled, Y_resampled = oversample.fit_resample(X_resampled, Y_resampled) #fit and apply transform\n",
    "    return X_resampled, Y_resampled \n",
    "\n",
    "# Normalization and dimensionality reduction\n",
    "def norm(X):     \n",
    "#     #feature selection\n",
    "#     selector = SelectKBest(f_classif, k=200)\n",
    "#     X = selector.fit_transform(X, Y)\n",
    "    #print(selected_features)\n",
    "\n",
    "    # normalize the range features\n",
    "    scaler = MinMaxScaler(feature_range=(0,1)).fit(X_train_av)  \n",
    "    X = scaler.transform(X)\n",
    "    #X_inverted = scaler.inverse_transform(X)\n",
    "    \n",
    "    # PCA decomposition. Set components number from 329(original) to 200\n",
    "    pca = decomposition.PCA(n_components=200).fit(X_train_av)\n",
    "    X = pca.transform(X)\n",
    "    \n",
    "    return X #, X_inverted\n",
    "\n",
    "#reshape to 3D data (nsample,ntimestep,nfeatures)\n",
    "def reshaping(X):\n",
    "    X = X.reshape(X.shape[0],1,X.shape[1]) \n",
    "    return X"
   ]
  },
  {
   "cell_type": "code",
   "execution_count": 13,
   "id": "renewable-secondary",
   "metadata": {},
   "outputs": [],
   "source": [
    "path = ('C:/Users/hasegawa-lab-pc/OneDrive - Japan Advanced Institute of Science and Technology/Documents/Dataset/DAiSEE/OpenFace_2.2.0_win_x64/processed/csv/')\n",
    "df_train_av = load_data(path+'average_train.csv')\n",
    "df_val_av = load_data(path+'average_val.csv')\n",
    "df_test_av = load_data(path+'average_test.csv')\n",
    "# print('Train = ', df_train_av.shape)\n",
    "# print('Val = ', df_val_av.shape)\n",
    "# print('Test = ', df_test_av.shape)"
   ]
  },
  {
   "cell_type": "code",
   "execution_count": 12,
   "id": "right-positive",
   "metadata": {},
   "outputs": [],
   "source": [
    "#Concatenate train and validation set\n",
    "df_train_concat = pd.concat([df_train_av,df_val_av], axis=0, ignore_index=True)\n",
    "df_all_concat = pd.concat([df_train_concat,df_test_av], axis=0, ignore_index=True)"
   ]
  },
  {
   "cell_type": "code",
   "execution_count": 14,
   "id": "devoted-freeware",
   "metadata": {},
   "outputs": [],
   "source": [
    "# X_train_av, Y_train_av = split_label(df_all_concat)\n",
    "X_train_av, Y_train_av = split_label(df_train_av)\n",
    "X_val_av, Y_val_av = split_label(df_val_av)\n",
    "X_test_av, Y_test_av = split_label(df_test_av)"
   ]
  },
  {
   "cell_type": "code",
   "execution_count": 38,
   "id": "looking-bolivia",
   "metadata": {},
   "outputs": [
    {
     "name": "stdout",
     "output_type": "stream",
     "text": [
      "Engagement=2, n=2617 (48.843%)\n",
      "Engagement=3, n=2494 (46.547%)\n",
      "Engagement=1, n=213 (3.975%)\n",
      "Engagement=0, n=34 (0.635%)\n",
      "Total= 5358\n",
      "Engagement=2, n=813 (56.893%)\n",
      "Engagement=3, n=450 (31.491%)\n",
      "Engagement=1, n=143 (10.007%)\n",
      "Engagement=0, n=23 (1.610%)\n",
      "Total= 1429\n",
      "Engagement=2, n=882 (49.439%)\n",
      "Engagement=3, n=814 (45.628%)\n",
      "Engagement=1, n=84 (4.709%)\n",
      "Engagement=0, n=4 (0.224%)\n",
      "Total= 1784\n"
     ]
    },
    {
     "data": {
      "image/png": "[encoded data removed]",
      "text/plain": [
       "<Figure size 432x288 with 1 Axes>"
      ]
     },
     "metadata": {
      "needs_background": "light"
     },
     "output_type": "display_data"
    }
   ],
   "source": [
    "#Plot Distribution after concatenation train+validation\n",
    "def plot_dist(Y):\n",
    "    counter = Counter(Y)\n",
    "    key =[]\n",
    "    value = []\n",
    "    for k,v in counter.items():\n",
    "        per = v / len(Y)*100\n",
    "        print('Engagement=%d, n=%d (%.3f%%)' % (k,v,per))\n",
    "        key.append(k)\n",
    "        value.append(v)\n",
    "    print('Total=', len(Y))\n",
    "    return key, value\n",
    "\n",
    "k_train, v_train = plot_dist(Y_train_av)\n",
    "k_val, v_val = plot_dist(Y_val_av)\n",
    "k_test, v_test = plot_dist(Y_test_av)\n",
    "# print(k_train)\n",
    "# print(v_train)\n",
    "\n",
    "#Plot the distribution\n",
    "ind = np.arange(len(k_train)) \n",
    "w = 0.25 \n",
    "plt.bar(ind  , v_train, width=w, label='Train')\n",
    "plt.bar(ind + w, v_val, width=w, label='Validation')\n",
    "plt.bar(ind + w + w, v_test, width=w,label='Test')\n",
    "\n",
    "plt.ylabel('Number of Images')\n",
    "plt.xlabel('Engagement Intensity')\n",
    "# plt.title('Label Distribution on DAiSEE (Modified)')\n",
    "# plt.xticks(ind + w + w/ 3, ('Very Engaged','Normally Engaged','Not Engaged'))\n",
    "\n",
    "plt.title('Engagement Label Distributions on DAiSEE')\n",
    "plt.xticks(ind + 0.08 + 0.08 + 0.08, ('3\\nVery High','2\\nHigh','1\\nLow','0\\nVery Low'))\n",
    "plt.legend(loc='best')\n",
    "plt.show()"
   ]
  },
  {
   "cell_type": "code",
   "execution_count": null,
   "id": "stupid-alexander",
   "metadata": {},
   "outputs": [],
   "source": [
    "X_train_av, Y_train_av = resample(501,2000,2000,X_train_av,Y_train_av) #413,1472,1715\n",
    "# X_train_av, Y_train_av = resample(247,1000,1000,X_train_av,Y_train_av) #413,1472,1715\n",
    "# X_val_av, Y_val_av = resample(166,200,200,X_train_av,Y_train_av)\n",
    "# X_test_av, Y_test_av = resample(88,441,407,X_test_av,Y_test_av)\n",
    "# print('X training=',X_train.shape)\n",
    "# print('Y training=',Y_train.shape)\n",
    "# # print('X val=',X_val.shape)\n",
    "# # print('Y val=',Y_val.shape)\n",
    "# print('X test=',X_test.shape)\n",
    "# print('Y test=',Y_test.shape)"
   ]
  },
  {
   "cell_type": "code",
   "execution_count": 15,
   "id": "capable-strain",
   "metadata": {},
   "outputs": [],
   "source": [
    "X_train = norm(X_train_av) #,X_train_inv\n",
    "# X_val_av = norm(X_val_av)\n",
    "# X_test_av = norm(X_test_av) #, X_test_inv\n",
    "# print('X training=',X_train.shape)\n",
    "# print('X original=',X_train_inv.shape)\n",
    "# # print('X val=',X_val.shape)\n",
    "# print('X test=',X_test.shape)\n",
    "# print('X original=',X_test_inv.shape)"
   ]
  },
  {
   "cell_type": "code",
   "execution_count": 16,
   "id": "synthetic-swiss",
   "metadata": {},
   "outputs": [],
   "source": [
    "X_train_av = X_train"
   ]
  },
  {
   "cell_type": "code",
   "execution_count": 17,
   "id": "present-particle",
   "metadata": {},
   "outputs": [],
   "source": [
    "X_train_av = reshaping(X_train_av)\n",
    "# X_val_av = reshaping(X_val_av)\n",
    "# X_test_av = reshaping(X_test_av) #no need to convert Y_test to one hot matrix\n",
    "# X_train_inv = reshaping(X_train_inv)\n",
    "# X_test_inv = reshaping(X_test_inv)\n",
    "# print('X_train shape:{} | Y_train shape:{}\\nX_test shape:{} | Y_test shape:{} '.format(X_train.shape, Y_train.shape, X_test.shape, Y_test.shape))"
   ]
  },
  {
   "cell_type": "code",
   "execution_count": 18,
   "id": "experienced-transition",
   "metadata": {},
   "outputs": [],
   "source": [
    "Y_train_cat_av = to_categorical(Y_train_av) #convert label vector to one-hot matrix\n",
    "# Y_val_cat_av = to_categorical(Y_val_av) #convert label vector to one-hot matrix\n",
    "# Y_test_cat_av = to_categorical(Y_test_av) #convert label vector to one-hot matrix\n",
    "# print('Y after convert to 1hot =', Y_train_cat_av)"
   ]
  },
  {
   "cell_type": "code",
   "execution_count": null,
   "id": "exterior-creek",
   "metadata": {},
   "outputs": [],
   "source": [
    "Y_train_cat_av.shape"
   ]
  },
  {
   "cell_type": "markdown",
   "id": "generic-venue",
   "metadata": {},
   "source": [
    "## [Case 2] Non averaged data input"
   ]
  },
  {
   "cell_type": "code",
   "execution_count": 67,
   "id": "suburban-sigma",
   "metadata": {},
   "outputs": [],
   "source": [
    "path = ('C:/Users/hasegawa-lab-pc/OneDrive - Japan Advanced Institute of Science and Technology/Documents/Dataset/DAiSEE/OpenFace_2.2.0_win_x64/processed/csv/')\n",
    "\n",
    "def load_all_data(datapath,labelfile):\n",
    "    #load label\n",
    "    df = pd.read_csv(labelfile)\n",
    "    \n",
    "    #create empty list\n",
    "    data_list = []\n",
    "    label_list = []\n",
    "    \n",
    "    for noid, clipid in enumerate(df.ClipID):\n",
    "        temp_df = pd.read_csv(datapath+clipid, nrows=300) #read csv files (n timestamps)\n",
    "        temp_df = temp_df.drop(temp_df.columns[0:5], axis=1) #drop first 5 columns \n",
    "        # temp_df = temp_df.iloc[9:300:21,:] #take 1 every 21 frame   \n",
    "        temp_df = temp_df.groupby(np.arange(len(temp_df))//30).mean() #average every 30 frames, resulting 10 timesteps\n",
    "\n",
    "        # ensure all data is float\n",
    "        temp_df = temp_df.astype('float32')\n",
    "              \n",
    "        # PCA decomposition. Set components number from 329(original) to 200\n",
    "        #     pca = decomposition.PCA(n_components=250)\n",
    "        #     temp_df = pca.fit_transform(temp_df)\n",
    "        #     print(temp_df)\n",
    "        \n",
    "        temp_df = np.array(temp_df, dtype=object)\n",
    "        labl = df.Engagement[noid]\n",
    "        labl = np.array(labl)\n",
    "        #     print(temp_df,labl)\n",
    "        data_list.append(temp_df)\n",
    "        label_list.append(labl)    \n",
    "#         break\n",
    "    \n",
    "    X = np.array(data_list, dtype=object) #features\n",
    "    Y = np.array(label_list) #labels\n",
    "    print('X shape:{} | Y shape:{}'.format(X.shape, Y.shape))\n",
    "    \n",
    "    return X, Y"
   ]
  },
  {
   "cell_type": "code",
   "execution_count": 68,
   "id": "distant-visitor",
   "metadata": {},
   "outputs": [
    {
     "output_type": "stream",
     "name": "stdout",
     "text": [
      "X shape:(5467, 10, 329) | Y shape:(5467,)\n",
      "X shape:(1703, 10, 329) | Y shape:(1703,)\n",
      "X shape:(1782, 10, 329) | Y shape:(1782,)\n",
      "Processing time 0:03:20.856032\n"
     ]
    }
   ],
   "source": [
    "tic = datetime.now()\n",
    "X_train_all, Y_train_all = load_all_data(path+'csv_train/',path+'labels/TrainLabels.csv')\n",
    "X_val_all, Y_val_all = load_all_data(path+'csv_val/',path+'labels/ValidationLabels.csv')\n",
    "X_test_all, Y_test_all = load_all_data(path+'csv_test/',path+'labels/TestLabels.csv')\n",
    "\n",
    "time = datetime.now() - tic\n",
    "print('Processing time {}'.format(time))"
   ]
  },
  {
   "cell_type": "code",
   "execution_count": 69,
   "metadata": {},
   "outputs": [
    {
     "output_type": "stream",
     "name": "stdout",
     "text": [
      "Processing time 0:00:00.699160\n(5467, 10, 329) (1703, 10, 329) (1782, 10, 329)\n"
     ]
    }
   ],
   "source": [
    "tic = datetime.now()\n",
    "\n",
    "scaler = MinMaxScaler(feature_range=(0,1))\n",
    "X_train_all_scalled = scaler.fit_transform(X_train_all.reshape(-1, X_train_all.shape[-1])).reshape(X_train_all.shape)\n",
    "\n",
    "X_val_all_scalled = scaler.transform(X_val_all.reshape(-1, X_val_all.shape[-1])).reshape(X_val_all.shape)\n",
    "\n",
    "X_test_all_scalled = scaler.transform(X_test_all.reshape(-1, X_test_all.shape[-1])).reshape(X_test_all.shape)\n",
    "\n",
    "time = datetime.now() - tic\n",
    "print('Processing time {}'.format(time))\n",
    "print(X_train_all_scalled.shape,X_val_all_scalled.shape,X_test_all_scalled.shape)"
   ]
  },
  {
   "cell_type": "code",
   "execution_count": 22,
   "metadata": {},
   "outputs": [],
   "source": [
    "# tic = datetime.now()\n",
    "\n",
    "# pca = decomposition.PCA(n_components=250)\n",
    "# X_train_all_scalled = pca.fit_transform(X_train_all_scalled.reshape(-1, X_train_all_scalled.shape[-1])).reshape(X_train_all_scalled.shape)\n",
    "\n",
    "# X_val_all_scalled = pca.transform(X_val_all_scalled.reshape(-1, X_val_all_scalled.shape[-1])).reshape(X_val_all_scalled.shape)\n",
    "\n",
    "# X_test_all_scalled = pca.transform(X_test_all_scalled.reshape(-1, X_test_all_scalled.shape[-1])).reshape(X_test_all_scalled.shape)\n",
    "\n",
    "# time = datetime.now() - tic\n",
    "# print('Processing time {}'.format(time))"
   ]
  },
  {
   "cell_type": "code",
   "execution_count": 70,
   "id": "intense-surfing",
   "metadata": {},
   "outputs": [],
   "source": [
    "with open('C:/Users/hasegawa-lab-pc/OneDrive - Japan Advanced Institute of Science and Technology/Documents/Exp_Shofi/Statistical Analysis/extracted/daisee_329dims_10timesteps.pkl','wb') as f:\n",
    "    pickle.dump([X_train_all, X_val_all, X_test_all, X_train_all_scalled, X_val_all_scalled, X_test_all_scalled, Y_train_all, Y_val_all, Y_test_all], f)"
   ]
  },
  {
   "cell_type": "code",
   "execution_count": null,
   "id": "religious-interest",
   "metadata": {},
   "outputs": [],
   "source": [
    "#modify label\n",
    "def modif_label(Y):\n",
    "    Y = np.where(Y==1, 0, Y) #combine label 0 and 1\n",
    "    Y = np.where(Y==2, 1, Y) #change label 2 to 1\n",
    "    Y = np.where(Y==3, 2, Y) #change label 3 to 2\n",
    "    print('Y before encode =', Y)\n",
    "    print('Shape before encode =', Y.shape)\n",
    "    Y = LabelEncoder().fit_transform(Y) #encode label value as label variable\n",
    "    print('Y after encode =', Y)\n",
    "    print('Shape after encode =', Y.shape)\n",
    "#     print('Shape before cat =', Y.shape)\n",
    "#     Y_cat = to_categorical(Y)\n",
    "#     print('Shape after cat =', Y.shape)\n",
    "    return Y#, Y_cat"
   ]
  },
  {
   "cell_type": "code",
   "execution_count": null,
   "id": "narrow-collins",
   "metadata": {},
   "outputs": [],
   "source": [
    "Y_train_modif = modif_label(Y_train) #, Y_train_modif_cat"
   ]
  },
  {
   "cell_type": "code",
   "execution_count": null,
   "id": "great-tooth",
   "metadata": {},
   "outputs": [],
   "source": [
    "Y_train_cat = to_categorical(Y_train_modif)\n",
    "print(Y_train_cat)\n",
    "print(Y_train_cat.shape)"
   ]
  },
  {
   "cell_type": "code",
   "execution_count": null,
   "id": "willing-divide",
   "metadata": {},
   "outputs": [],
   "source": [
    "Y_val_modif = modif_label(Y_val)"
   ]
  },
  {
   "cell_type": "code",
   "execution_count": null,
   "id": "pediatric-coordination",
   "metadata": {},
   "outputs": [],
   "source": [
    "Y_val_cat = to_categorical(Y_val_modif)\n",
    "print(Y_val_cat)\n",
    "print(Y_val_cat.shape)"
   ]
  },
  {
   "cell_type": "markdown",
   "id": "juvenile-command",
   "metadata": {},
   "source": [
    "# 2. Build Models, Compile and Train"
   ]
  },
  {
   "cell_type": "code",
   "execution_count": null,
   "id": "consistent-dietary",
   "metadata": {},
   "outputs": [],
   "source": [
    "# Models\n",
    "# ## 1. Vanila LSTM\n",
    "# - Memory cells of a single LSTM layer are used in a simple network structure\n",
    "def vanilaLSTM(X):\n",
    "    model = Sequential()\n",
    "    model.add(LSTM(50, input_shape=(X.shape[1],X.shape[2]))) #use average data\n",
    "    model.add(Dense(1, activation='softmax'))\n",
    "    model.name='vanilaLSTM'\n",
    "    print(model.summary())\n",
    "    return model\n",
    "\n",
    "# ## 2. Stacked LSTM\n",
    "# - LSTM layers are stacked one on top of another into deep recurrent neural networks\n",
    "def stackedLSTM(X):\n",
    "    model = Sequential()\n",
    "    model.add(LSTM(75, activation='relu', return_sequences=True, input_shape=(X.shape[1],X.shape[2])))\n",
    "    model.add(LSTM(75, activation='relu'))\n",
    "    model.add(Dense(1, activation='softmax'))\n",
    "    model.name='stackedLSTM'\n",
    "#     print(model.summary())\n",
    "    return model\n",
    "\n",
    "# ## 3. Bi-LSTM\n",
    "# - Input sequences are presented and learned both forward and backward\n",
    "def biLSTM(X):\n",
    "    model = Sequential()\n",
    "    model.add(Bidirectional(LSTM(50, activation='relu'), input_shape=(X.shape[1],X.shape[2])))\n",
    "    model.add(Dense(1, activation='softmax'))\n",
    "    model.name='biLSTM'\n",
    "#     print(model.summary())\n",
    "    return model\n",
    "\n",
    "# ## 4. BiLSTM (Ensamble)\n",
    "# - Follow An Ensemble model using face and body tracking for engagement detection\n",
    "def bilstm_en(X):\n",
    "    model = Sequential()\n",
    "    model.add(InputLayer(input_shape=((X.shape[1],X.shape[2]))))\n",
    "    model.add(Dense(16))\n",
    "    model.add(BatchNormalization())\n",
    "    model.add(Dropout(0.5))\n",
    "    model.add(Activation('relu'))\n",
    "    model.add(Dropout(0.25))\n",
    "    model.add(Bidirectional(LSTM(50)))\n",
    "    model.add(Dropout(0.25))\n",
    "    # modelD.add(GlobalAveragePooling1D())\n",
    "    model.add(Dense(16))\n",
    "    model.add(Activation('relu'))\n",
    "    model.add(Dense(1, activation='softmax'))\n",
    "    model.name='bilstm_en'\n",
    "#     print(model.summary())\n",
    "    return model"
   ]
  },
  {
   "cell_type": "code",
   "execution_count": null,
   "id": "successful-concept",
   "metadata": {},
   "outputs": [],
   "source": [
    "#instantiate the model[Case 1]\n",
    "vanilaLSTM_model = vanilaLSTM(X_train_av)\n",
    "stackedLSTM_model = stackedLSTM(X_train_av)\n",
    "biLSTM_model = biLSTM(X_train_av)\n",
    "bilstm_en_model = bilstm_en(X_train_av)"
   ]
  },
  {
   "cell_type": "code",
   "execution_count": null,
   "id": "sensitive-madagascar",
   "metadata": {},
   "outputs": [],
   "source": [
    "# #instantiate the model [Case 2]\n",
    "# vanilaLSTM_model = vanilaLSTM(X_train)\n",
    "# stackedLSTM_model = stackedLSTM(X_train)\n",
    "# biLSTM_model = biLSTM(X_train)\n",
    "# bilstm_en_model = bilstm_en(X_train)"
   ]
  },
  {
   "cell_type": "markdown",
   "id": "numeric-easter",
   "metadata": {},
   "source": [
    "### Training and Compile"
   ]
  },
  {
   "cell_type": "code",
   "execution_count": null,
   "id": "theoretical-guidance",
   "metadata": {},
   "outputs": [],
   "source": [
    "#compile and train model\n",
    "def compile_train(model,Xtrain,YtrainCat):\n",
    "    model.compile(loss='mse', optimizer=Adam(lr=1e-3), metrics=['mse'])#loss='mse'\n",
    "    #categorical_crossentropy\n",
    "    #learning rate schedule: reduce learning rate 0.1 every 2 epochs \n",
    "    # monitor='mean_squared_error'\n",
    "    reduce_lr = ReduceLROnPlateau(monitor='mean_squared_error', factor=0.1, patience=2, min_lr=0.00001, mode='auto')\n",
    "    filepath = 'weights/' + model.name + '.hdf5'\n",
    "    checkpoint = ModelCheckpoint(filepath, monitor='mean_squared_error', verbose=1,\n",
    "                                 save_weights_only=True, save_best_only=True,\n",
    "                                 mode='auto')\n",
    "    history = model.fit(Xtrain,YtrainCat, epochs=5, verbose=1,\n",
    "                        callbacks = [PlotLossesCallback(), checkpoint],# , reduce_lr\n",
    "                        batch_size = 32,\n",
    "                        validation_split=0.2, \n",
    "#                         validation_data=(X_test_av, Y_test_cat_av), \n",
    "#                         validation_data=(X_val_av, Y_val_cat_av), \n",
    "                        shuffle=False\n",
    "                       )\n",
    "    \n",
    "#     scores = model.evaluate(X_train, YtrainCat, verbose=0)\n",
    "    return history, scores"
   ]
  },
  {
   "cell_type": "code",
   "execution_count": null,
   "id": "moderate-petroleum",
   "metadata": {
    "scrolled": true
   },
   "outputs": [],
   "source": [
    "compile_train(vanilaLSTM_model,X_train_av,Y_train_av)  # [case 1]\n",
    "# compile_train(vanilaLSTM_model,X_train,Y_train_cat)  # [case 2]"
   ]
  },
  {
   "cell_type": "code",
   "execution_count": null,
   "id": "integrated-holder",
   "metadata": {},
   "outputs": [],
   "source": [
    "compile_train(stackedLSTM_model,X_train_av,Y_train_av)  # [case 1]\n",
    "# compile_train(stackedLSTM_model,X_train,Y_train_cat)  # [case 2]"
   ]
  },
  {
   "cell_type": "code",
   "execution_count": null,
   "id": "scenic-viking",
   "metadata": {},
   "outputs": [],
   "source": [
    "compile_train(biLSTM_model,X_train_av,Y_train_av)  # [case 1]\n",
    "# compile_train(biLSTM_model,X_train,Y_train_cat)  # [case 2]"
   ]
  },
  {
   "cell_type": "code",
   "execution_count": null,
   "id": "executive-possibility",
   "metadata": {},
   "outputs": [],
   "source": [
    "compile_train(bilstm_en_model,X_train_av,Y_train_av)  # [case 1]\n",
    "# compile_train(bilstm_en_model,X_train,Y_train_cat)  # [case 2]"
   ]
  },
  {
   "cell_type": "markdown",
   "id": "residential-header",
   "metadata": {},
   "source": [
    "## K-Fold Cross Validation"
   ]
  },
  {
   "cell_type": "code",
   "execution_count": 22,
   "id": "nuclear-tuning",
   "metadata": {},
   "outputs": [],
   "source": [
    "save_dir = '/weights/'\n",
    "fold_var = 1\n",
    "#KFold split\n",
    "kf = KFold(n_splits = 5)\n",
    "skf = StratifiedKFold(n_splits = 5, random_state = None, shuffle = False)\n",
    "cvscores_single = []"
   ]
  },
  {
   "cell_type": "code",
   "execution_count": 20,
   "id": "musical-railway",
   "metadata": {},
   "outputs": [
    {
     "ename": "IndexError",
     "evalue": "shape mismatch: indexing arrays could not be broadcast together with shapes (6856,) (1715,) ",
     "output_type": "error",
     "traceback": [
      "\u001b[1;31m---------------------------------------------------------------------------\u001b[0m",
      "\u001b[1;31mIndexError\u001b[0m                                Traceback (most recent call last)",
      "\u001b[1;32m<ipython-input-20-d9df0c7c6466>\u001b[0m in \u001b[0;36m<module>\u001b[1;34m\u001b[0m\n\u001b[0;32m      6\u001b[0m \u001b[1;31m# for train_index, val_index in skf.split(X_train_av,Y_train_av):\u001b[0m\u001b[1;33m\u001b[0m\u001b[1;33m\u001b[0m\u001b[0m\n\u001b[0;32m      7\u001b[0m \u001b[1;31m#     print(\"TRAIN:\", train_index, \"TEST:\", val_index)\u001b[0m\u001b[1;33m\u001b[0m\u001b[1;33m\u001b[0m\u001b[0m\n\u001b[1;32m----> 8\u001b[1;33m     \u001b[0mX_train\u001b[0m\u001b[1;33m,\u001b[0m \u001b[0mX_test\u001b[0m \u001b[1;33m=\u001b[0m \u001b[0mX_train_av\u001b[0m\u001b[1;33m[\u001b[0m\u001b[0mtrain_index\u001b[0m\u001b[1;33m]\u001b[0m\u001b[1;33m,\u001b[0m \u001b[0mX_train_av\u001b[0m\u001b[1;33m[\u001b[0m\u001b[0mval_index\u001b[0m\u001b[1;33m]\u001b[0m\u001b[1;33m\u001b[0m\u001b[0m\n\u001b[0m\u001b[0;32m      9\u001b[0m     \u001b[0mY_train\u001b[0m\u001b[1;33m,\u001b[0m \u001b[0mY_test\u001b[0m \u001b[1;33m=\u001b[0m \u001b[0mY_train_av\u001b[0m\u001b[1;33m[\u001b[0m\u001b[0mtrain_index\u001b[0m\u001b[1;33m]\u001b[0m\u001b[1;33m,\u001b[0m \u001b[0mY_train_av\u001b[0m\u001b[1;33m[\u001b[0m\u001b[0mval_index\u001b[0m\u001b[1;33m]\u001b[0m\u001b[1;33m\u001b[0m\u001b[0m\n\u001b[0;32m     10\u001b[0m \u001b[1;33m\u001b[0m\u001b[0m\n",
      "\u001b[1;31mIndexError\u001b[0m: shape mismatch: indexing arrays could not be broadcast together with shapes (6856,) (1715,) "
     ]
    }
   ],
   "source": [
    "for train_index, val_index in enumerate(kf.split(X_train_av,Y_train_cat_av)):\n",
    "# for train_index, val_index in skf.split(X_train_av,Y_train_av):\n",
    "#     print(\"TRAIN:\", train_index, \"TEST:\", val_index)\n",
    "    X_train, X_test = X_train_av[train_index], X_train_av[val_index]\n",
    "    Y_train, Y_test = Y_train_av[train_index], Y_train_av[val_index]\n",
    "   \n",
    "    model = Sequential()\n",
    "    model.add(LSTM(50, input_shape=(X_train_av.shape[1],X_train_av.shape[2]))) #use average data\n",
    "    model.add(Dense(1, activation='softmax'))\n",
    "    \n",
    "    model.compile(loss='sparse_categorical_crossentropy', optimizer=Adam(lr=1e-3), metrics=['accuracy'])#loss='mse'\n",
    "\n",
    "    model.fit(X_train_av[train_index],Y_train_cat_av[train_index], epochs=150, verbose=0, batch_size = 32)\n",
    "    \n",
    "    scores = model.evaluate(X_train_av[val_index], Y_train_cat_av[val_index], verbose=0)\n",
    "    print(\"%s: %f\" % (model.metrics_names[0], scores[0]), \"%s: %.2f%%\" % (model.metrics_names[1], scores[1]*100))\n",
    "    cvscores.append(scores[1]*100)\n",
    "    \n",
    "print(\"%.2f%% (+/- %.2f%%)\" % (np.mean(cvscores), np.std(cvscores))) #Average accuracy"
   ]
  },
  {
   "cell_type": "code",
   "execution_count": null,
   "id": "piano-infection",
   "metadata": {},
   "outputs": [],
   "source": [
    "kf = KFold(n_splits = 5)\n",
    "skf = StratifiedKFold(n_splits = 5, random_state = None, shuffle = False)\n",
    "cvscores = []\n",
    "\n",
    "for train_index, val_index in skf.split(X_train_av,Y_train_av):\n",
    "    model = Sequential()\n",
    "    model.add(LSTM(75, activation='relu', return_sequences=True, input_shape=(X_train_av.shape[1],X_train_av.shape[2])))\n",
    "    model.add(LSTM(75, activation='relu'))\n",
    "    model.add(Dense(1, activation='softmax'))\n",
    "    \n",
    "    model.compile(loss='mse', optimizer=Adam(lr=1e-3), metrics=['accuracy'])#loss='mse'\n",
    "\n",
    "    model.fit(X_train_av[train_index],Y_train_av[train_index], epochs=150, verbose=0, batch_size = 32)\n",
    "    \n",
    "    scores = model.evaluate(X_train_av[val_index], Y_train_av[val_index], verbose=0)\n",
    "    print(\"%s: %f\" % (model.metrics_names[0], scores[0]), \"%s: %.2f%%\" % (model.metrics_names[1], scores[1]*100))\n",
    "    cvscores.append(scores[1]*100)\n",
    "print(\"%.2f%% (+/- %.2f%%)\" % (np.mean(cvscores), np.std(cvscores)))"
   ]
  },
  {
   "cell_type": "code",
   "execution_count": null,
   "id": "cognitive-promotion",
   "metadata": {},
   "outputs": [],
   "source": [
    "kf = KFold(n_splits = 5)\n",
    "skf = StratifiedKFold(n_splits = 5, random_state = None, shuffle = False)\n",
    "cvscores = []\n",
    "\n",
    "for train_index, val_index in skf.split(X_train_av,Y_train_av):\n",
    "    model = Sequential()\n",
    "    model.add(Bidirectional(LSTM(50, activation='relu'), input_shape=(X_train_av.shape[1],X_train_av.shape[2])))\n",
    "    model.add(Dense(1, activation='softmax'))\n",
    "    \n",
    "    model.compile(loss='mse', optimizer=Adam(lr=1e-3), metrics=['accuracy'])#loss='mse'\n",
    "\n",
    "    model.fit(X_train_av[train_index],Y_train_av[train_index], epochs=150, verbose=0, batch_size = 32)\n",
    "    \n",
    "    scores = model.evaluate(X_train_av[val_index], Y_train_av[val_index], verbose=0)\n",
    "    print(\"%s: %f\" % (model.metrics_names[0], scores[0]), \"%s: %.2f%%\" % (model.metrics_names[1], scores[1]*100))\n",
    "    cvscores.append(scores[1]*100)\n",
    "print(\"%.2f%% (+/- %.2f%%)\" % (np.mean(cvscores), np.std(cvscores)))"
   ]
  },
  {
   "cell_type": "code",
   "execution_count": null,
   "id": "challenging-stack",
   "metadata": {},
   "outputs": [],
   "source": [
    "kf = KFold(n_splits = 5)\n",
    "skf = StratifiedKFold(n_splits = 5, random_state = None, shuffle = False)\n",
    "cvscores = []\n",
    "\n",
    "for train_index, val_index in skf.split(X_train_av,Y_train_av):\n",
    "    model = Sequential()\n",
    "    model.add(InputLayer(input_shape=((X_train_av.shape[1],X_train_av.shape[2]))))\n",
    "    model.add(Dense(16))\n",
    "    model.add(BatchNormalization())\n",
    "    model.add(Dropout(0.5))\n",
    "    model.add(Activation('relu'))\n",
    "    model.add(Dropout(0.25))\n",
    "    model.add(Bidirectional(LSTM(50)))\n",
    "    model.add(Dropout(0.25))\n",
    "    # modelD.add(GlobalAveragePooling1D())\n",
    "    model.add(Dense(16))\n",
    "    model.add(Activation('relu'))\n",
    "    model.add(Dense(1, activation='softmax'))\n",
    "    \n",
    "    model.compile(loss='mse', optimizer=Adam(lr=1e-3), metrics=['accuracy'])#loss='mse'\n",
    "\n",
    "    model.fit(X_train_av[train_index],Y_train_av[train_index], epochs=150, verbose=0, batch_size = 32)\n",
    "    \n",
    "    scores = model.evaluate(X_train_av[val_index], Y_train_av[val_index], verbose=0)\n",
    "    print(\"%s: %f\" % (model.metrics_names[0], scores[0]), \"%s: %.2f%%\" % (model.metrics_names[1], scores[1]*100))\n",
    "    cvscores.append(scores[1]*100)\n",
    "print(\"%.2f%% (+/- %.2f%%)\" % (np.mean(cvscores), np.std(cvscores)))"
   ]
  },
  {
   "cell_type": "markdown",
   "id": "religious-qualification",
   "metadata": {},
   "source": [
    "# Evaluate Model"
   ]
  },
  {
   "cell_type": "code",
   "execution_count": null,
   "id": "demanding-russian",
   "metadata": {},
   "outputs": [],
   "source": [
    "# vanilaLSTM_model.load_weights(\"weights/vanilaLSTM_pcafirst.hdf5\")\n",
    "# stackedLSTM_model = stackedLSTM_model.load_weights('weights/stackedLSTM_pcafirst.hdf5')\n",
    "# biLSTM_model = biLSTM_model.load_weights('weights/biLSTM_pcafirst.hdf5')\n",
    "# bilstm_en_model = bilstm_en_model.load_weights('weights/biltm_en_pcafirst.hdf5')"
   ]
  },
  {
   "cell_type": "code",
   "execution_count": null,
   "id": "honest-notice",
   "metadata": {},
   "outputs": [],
   "source": [
    "#evaluate the model\n",
    "def evaluate(trainedmodel,Xtest, Ytest_cat):\n",
    "    mse, acc = trainedmodel.evaluate(Xtest, Ytest_cat,verbose=1)\n",
    "    print('|'+ trainedmodel.name + '|\\n MSE = ', mse, \n",
    "      ', Accuracy = ',acc\n",
    "     )\n",
    "    return \n",
    "print(evaluate(vanilaLSTM_model,X_test_av, Y_test_cat_av)) #X_test, Y_test, \n",
    "print(evaluate(stackedLSTM_model,X_test_av, Y_test_cat_av))\n",
    "print(evaluate(biLSTM_model,X_test_av, Y_test_cat_av))\n",
    "print(evaluate(bilstm_en_model,X_test_av, Y_test_cat_av))"
   ]
  },
  {
   "cell_type": "code",
   "execution_count": null,
   "id": "alert-master",
   "metadata": {},
   "outputs": [],
   "source": [
    "# evaluate the model by calculating the error rate on the test set\n",
    "\n",
    "def evaluate_error(trainedmodel,Xtest,Ytest): # X_test, Y_test,\n",
    "    pred = trainedmodel.predict(Xtest, batch_size=32)\n",
    "    pred = np.argmax(pred, axis=1)\n",
    "    error = np.sum(np.not_equal(pred, Ytest)) / Ytest.shape[0] #error rate\n",
    "    mse = mean_squared_error(Ytest,pred)\n",
    "    cm = confusion_matrix(Ytest, pred) #confusion matrix\n",
    "    acc = accuracy_score(Ytest, pred) #accuracy\n",
    "    rc = recall_score(Ytest, pred, average=None) #Recall score\n",
    "    ps = precision_score(Ytest, pred, average=None) #Precision\n",
    "    print('|'+ trainedmodel.name + '|\\n Error rate =', error, \n",
    "      '\\n MSE = ',mse,\n",
    "      '\\n Accuracy = ',acc\n",
    "     )\n",
    "    return cm\n",
    "\n",
    "print('|confusion matrix|\\n', evaluate_error(vanilaLSTM_model,X_test_av, Y_test_av),'\\n') #X_train_inv, Y_train, \n",
    "print('|confusion matrix|\\n', evaluate_error(stackedLSTM_model,X_test_av, Y_test_av),'\\n')\n",
    "print('|confusion matrix|\\n', evaluate_error(biLSTM_model,X_test_av, Y_test_av),'\\n')\n",
    "print('|confusion matrix|\\n', evaluate_error(bilstm_en_model,X_test_av, Y_test_av),'\\n')"
   ]
  },
  {
   "cell_type": "code",
   "execution_count": null,
   "id": "powered-monkey",
   "metadata": {},
   "outputs": [],
   "source": [
    "# plot confusion matrix\n",
    "\n",
    "#plt.figure(figsize=(20,20))\n",
    "plt.clf()\n",
    "ax = plt.subplot()\n",
    "cm = evaluate_error(vanilaLSTM_model,X_test_av, Y_test_av)\n",
    "# normalize the diagonal entries to know accuracy every class (see the diagonal value) \n",
    "cm = cm.astype('float') / cm.sum(axis=1)[:, np.newaxis] \n",
    "\n",
    "sns.heatmap(cm, annot = True, ax = ax, cmap=\"YlGnBu\") \n",
    "\n",
    "ax.set_xlabel('Predicted')\n",
    "ax.set_ylabel('Original')\n",
    "ax.set_title('Confusion_matrix')\n",
    "\n",
    "classNames = ['not_engaged','normally_engaged','very_engaged']\n",
    "plt.ylabel('True label')\n",
    "plt.xlabel('Predicted label')\n",
    "tick_marks = np.arange(len(classNames))\n",
    "plt.xticks(tick_marks, classNames, rotation=45)\n",
    "plt.yticks(tick_marks, classNames, rotation=45)\n",
    "plt.show()\n",
    "\n",
    "# plt.savefig('confusionMatrix.png')"
   ]
  },
  {
   "cell_type": "code",
   "execution_count": null,
   "id": "earned-promise",
   "metadata": {},
   "outputs": [],
   "source": [
    "Engagement=1, n=813 (56.893%)\n",
    "Engagement=2, n=450 (31.491%)\n",
    "Engagement=0, n=166 (11.617%)\n",
    "\n",
    "Engagement=1, n=882 (49.439%)\n",
    "Engagement=2, n=814 (45.628%)\n",
    "Engagement=0, n=88 (4.933%)"
   ]
  },
  {
   "cell_type": "markdown",
   "id": "considered-chicago",
   "metadata": {},
   "source": [
    "# 0. Prepare the averaged data\n",
    "## Averaged features of each video file and add the label"
   ]
  },
  {
   "cell_type": "code",
   "execution_count": 39,
   "metadata": {},
   "outputs": [
    {
     "output_type": "stream",
     "name": "stdout",
     "text": [
      "      gaze_0_x   gaze_0_y   gaze_0_z   gaze_1_x   gaze_1_y   gaze_1_z  \\\n0    -0.028039   0.044401  -0.998620  -0.092259   0.071057  -0.993196   \n1    -0.034464   0.038139  -0.998678  -0.078796   0.066848  -0.994647   \n2    -0.032093   0.019279  -0.999299  -0.066075   0.057544  -0.996154   \n3    -0.023442   0.016895  -0.999582  -0.077705   0.061642  -0.995069   \n4    -0.025537   0.021714  -0.999438  -0.072913   0.051067  -0.996030   \n..         ...        ...        ...        ...        ...        ...   \n295  -0.077457   0.162204  -0.983712  -0.112366   0.200844  -0.973157   \n296  -0.077260   0.153933  -0.985056  -0.108666   0.187629  -0.976211   \n297  -0.093894   0.122258  -0.988047  -0.110964   0.184575  -0.976534   \n298  -0.095042   0.117448  -0.988521  -0.115383   0.182754  -0.976365   \n299  -0.104709   0.121298  -0.987078  -0.103853   0.187236  -0.976810   \n\n      gaze_angle_x   gaze_angle_y   eye_lmk_x_0   eye_lmk_x_1  ...   AU12_c  \\\n0           -0.060          0.058         281.2         283.4  ...      0.0   \n1           -0.057          0.053         281.4         283.7  ...      0.0   \n2           -0.049          0.038         282.1         284.4  ...      0.0   \n3           -0.051          0.039         283.1         285.5  ...      0.0   \n4           -0.049          0.036         284.2         286.7  ...      0.0   \n..             ...            ...           ...           ...  ...      ...   \n295         -0.097          0.183         283.9         287.0  ...      0.0   \n296         -0.095          0.172         283.9         287.0  ...      0.0   \n297         -0.104          0.155         284.0         287.4  ...      0.0   \n298         -0.107          0.152         284.0         287.4  ...      0.0   \n299         -0.106          0.156         283.9         287.1  ...      0.0   \n\n      AU14_c   AU15_c   AU17_c   AU20_c   AU23_c   AU25_c   AU26_c   AU28_c  \\\n0        0.0      0.0      0.0      0.0      0.0      1.0      0.0      0.0   \n1        0.0      0.0      1.0      0.0      0.0      0.0      0.0      0.0   \n2        0.0      0.0      0.0      0.0      0.0      0.0      0.0      0.0   \n3        0.0      0.0      1.0      0.0      0.0      0.0      0.0      0.0   \n4        0.0      0.0      1.0      0.0      0.0      0.0      0.0      0.0   \n..       ...      ...      ...      ...      ...      ...      ...      ...   \n295      0.0      0.0      0.0      0.0      0.0      0.0      0.0      0.0   \n296      0.0      0.0      0.0      0.0      0.0      0.0      0.0      0.0   \n297      0.0      0.0      0.0      0.0      0.0      0.0      0.0      0.0   \n298      0.0      0.0      0.0      0.0      0.0      0.0      0.0      0.0   \n299      0.0      0.0      0.0      0.0      0.0      0.0      0.0      0.0   \n\n      AU45_c  \n0        0.0  \n1        0.0  \n2        0.0  \n3        0.0  \n4        0.0  \n..       ...  \n295      0.0  \n296      0.0  \n297      0.0  \n298      0.0  \n299      0.0  \n\n[300 rows x 329 columns]\n"
     ]
    }
   ],
   "source": [
    "path = ('C:/Users/hasegawa-lab-pc/OneDrive - Japan Advanced Institute of Science and Technology/Documents/Dataset/DAiSEE/OpenFace_2.2.0_win_x64/processed/csv/')\n",
    "\n",
    "df_feat = pd.read_csv(path+'csv_train/181374016.csv') #Load a feature sample\n",
    "df_feat = df_feat.drop(df_feat.columns[0:5], axis=1) #take 1 every 21 frame   \n",
    "print(df_feat)\n",
    "\n",
    "# for num, col_name in enumerate(df_feat.columns):\n",
    "#     print(num, col_name)"
   ]
  },
  {
   "cell_type": "code",
   "execution_count": 42,
   "metadata": {},
   "outputs": [
    {
     "output_type": "stream",
     "name": "stdout",
     "text": [
      "    gaze_0_x   gaze_0_y   gaze_0_z   gaze_1_x   gaze_1_y   gaze_1_z  \\\n0  -0.015637   0.158115  -0.979753  -0.107795   0.178107  -0.971046   \n1  -0.053153   0.153650  -0.986338  -0.133284   0.211801  -0.967934   \n2  -0.023443   0.192884  -0.976542  -0.134279   0.217604  -0.964263   \n3  -0.060073   0.124196  -0.990297  -0.117398   0.165343  -0.979111   \n4  -0.036189   0.194529  -0.976128  -0.137187   0.217716  -0.963899   \n5  -0.072783   0.130759  -0.988463  -0.141052   0.191544  -0.971245   \n6  -0.086975   0.133771  -0.987048  -0.134015   0.187080  -0.973095   \n7  -0.083173   0.137734  -0.986821  -0.123760   0.187825  -0.974296   \n8  -0.084626   0.138646  -0.986535  -0.111895   0.188871  -0.975502   \n9  -0.090599   0.128437  -0.987458  -0.112165   0.182863  -0.976663   \n\n    gaze_angle_x   gaze_angle_y   eye_lmk_x_0   eye_lmk_x_1  ...   AU12_c  \\\n0      -0.063300       0.170767    288.706667    291.630000  ...      0.0   \n1      -0.095067       0.184833    283.203333    286.490000  ...      0.0   \n2      -0.080900       0.208533    282.696667    285.760000  ...      0.0   \n3      -0.089833       0.146000    280.986667    284.073333  ...      0.0   \n4      -0.088900       0.209533    280.206667    283.293333  ...      0.0   \n5      -0.108733       0.162967    280.673333    284.023333  ...      0.0   \n6      -0.112233       0.162300    281.850000    285.036667  ...      0.0   \n7      -0.105167       0.164500    284.636667    287.960000  ...      0.0   \n8      -0.099867       0.165400    282.060000    285.296667  ...      0.0   \n9      -0.102900       0.157100    283.396667    286.696667  ...      0.0   \n\n     AU14_c   AU15_c   AU17_c   AU20_c   AU23_c    AU25_c   AU26_c   AU28_c  \\\n0  0.033333      0.0      0.1      0.0      0.0  0.033333      0.0      0.0   \n1  0.633333      0.0      0.0      0.0      0.0  0.000000      0.0      0.0   \n2  0.000000      0.0      0.0      0.0      0.0  0.000000      0.0      0.0   \n3  0.133333      0.0      0.0      0.0      0.0  0.000000      0.0      0.0   \n4  0.000000      0.0      0.0      0.0      0.0  0.000000      0.0      0.0   \n5  0.000000      0.0      0.0      0.0      0.0  0.000000      0.0      0.0   \n6  0.000000      0.0      0.0      0.0      0.0  0.000000      0.0      0.0   \n7  0.000000      0.0      0.0      0.0      0.0  0.000000      0.0      0.0   \n8  0.000000      0.0      0.0      0.0      0.0  0.000000      0.0      0.0   \n9  0.000000      0.0      0.0      0.0      0.0  0.000000      0.0      0.0   \n\n     AU45_c  \n0  0.466667  \n1  0.000000  \n2  0.333333  \n3  0.000000  \n4  0.366667  \n5  0.000000  \n6  0.000000  \n7  0.000000  \n8  0.000000  \n9  0.000000  \n\n[10 rows x 329 columns]\n"
     ]
    }
   ],
   "source": [
    "df = df_feat.groupby(np.arange(len(df_feat))//30).mean()\n",
    "print(df)"
   ]
  },
  {
   "cell_type": "code",
   "execution_count": null,
   "id": "optical-morocco",
   "metadata": {},
   "outputs": [],
   "source": [
    "#Average training data\n",
    "feat_train = []\n",
    "for noid, clipid in enumerate(df_train.ClipID):\n",
    "    features = pd.read_csv('csv_train/'+clipid, index_col=None, header=0)\n",
    "    features = features.drop(features.columns[0:5], axis=1)\n",
    "    features = features.mean(axis=0)\n",
    "    #add label in column\n",
    "    label = df_train.Engagement[noid]\n",
    "    features['Engagement'] = label\n",
    "    features = pd.DataFrame(features).T #transpose after averaging\n",
    "#     print(features)\n",
    "    feat_train.append(features)\n",
    "#     print(feat)\n",
    "#     break\n",
    "    \n",
    "average_train = pd.concat(feat_train, axis=0, ignore_index=True)\n",
    "average_train.to_csv('average_train.csv', header=True)\n",
    "print(average_train)"
   ]
  },
  {
   "cell_type": "code",
   "execution_count": null,
   "id": "hungarian-worcester",
   "metadata": {},
   "outputs": [],
   "source": [
    "#Average validation data\n",
    "feat_val = []\n",
    "for noid, clipid in enumerate(df_val.ClipID):\n",
    "    features = pd.read_csv('csv_val/'+clipid, index_col=None, header=0)\n",
    "    features = features.drop(features.columns[0:5], axis=1)\n",
    "    features = features.mean(axis=0)\n",
    "    #add label in column\n",
    "    label = df_val.Engagement[noid]\n",
    "    features['Engagement'] = label\n",
    "    features = pd.DataFrame(features).T #transpose after averaging\n",
    "#     print(features)\n",
    "    feat_val.append(features)\n",
    "#     print(feat)\n",
    "#     break\n",
    "    \n",
    "average_val = pd.concat(feat_val, axis=0, ignore_index=True)\n",
    "average_val.to_csv('average_val.csv', header=True)\n",
    "print(average_val)"
   ]
  },
  {
   "cell_type": "code",
   "execution_count": null,
   "id": "removable-siemens",
   "metadata": {},
   "outputs": [],
   "source": [
    "#Average test data\n",
    "feat_test = []\n",
    "for noid, clipid in enumerate(df_test.ClipID):\n",
    "    features = pd.read_csv('csv_test/'+clipid, index_col=None, header=0)\n",
    "    features = features.drop(features.columns[0:5], axis=1)\n",
    "    features = features.mean(axis=0)\n",
    "    #add label in column\n",
    "    label = df_test.Engagement[noid]\n",
    "    features['Engagement'] = label\n",
    "    features = pd.DataFrame(features).T #transpose after averaging\n",
    "#     print(features)\n",
    "    feat_test.append(features)\n",
    "#     features.append(features)\n",
    "#     print(feat_test)\n",
    "#     break\n",
    "    \n",
    "average_test = pd.concat(feat_test, axis=0, ignore_index=True)\n",
    "# average_test.to_csv('average_test_trynew.csv', header=True)\n",
    "print(average_test)"
   ]
  },
  {
   "cell_type": "markdown",
   "id": "modern-basket",
   "metadata": {},
   "source": [
    "### test [1]"
   ]
  },
  {
   "cell_type": "code",
   "execution_count": null,
   "id": "useful-retreat",
   "metadata": {},
   "outputs": [],
   "source": [
    "test = pd.read_csv('csv_test/88265402700.csv', header=0)  \n",
    "# ttest = pd.DataFrame()\n",
    "test = test.drop(test.columns[0:5], axis=1)\n",
    "test = test.mean(axis=0)\n",
    "test['Engagement'] = 2\n",
    "test = pd.DataFrame(test).T\n",
    "# test.squeeze('columns')\n",
    "# test.T\n",
    "# ttest = pd.concat([ttest,test])\n",
    "# print(test)\n",
    "\n",
    "test2 = pd.read_csv('csv_test/88265402800.csv', header=0)\n",
    "test2 = test2.drop(test2.columns[0:5], axis=1)\n",
    "test2 = test2.mean(axis=0)\n",
    "test2['Engagement'] = 2\n",
    "test2 = pd.DataFrame(test2).T\n",
    "# print(test2)"
   ]
  },
  {
   "cell_type": "code",
   "execution_count": null,
   "id": "serious-democracy",
   "metadata": {},
   "outputs": [],
   "source": [
    "li = pd.concat([test,test2])\n",
    "print(li)"
   ]
  },
  {
   "cell_type": "markdown",
   "id": "strategic-cooking",
   "metadata": {},
   "source": [
    "### test [2] (Prepare X (features) and Y (labels) for LSTM)"
   ]
  },
  {
   "cell_type": "code",
   "execution_count": null,
   "id": "finished-ireland",
   "metadata": {},
   "outputs": [],
   "source": [
    "test1 = pd.read_csv('10frames/10_88265402320.csv')\n",
    "# test1 = np.array(test1)\n",
    "label1 = np.array(2)\n",
    "test2 = pd.read_csv('10frames/10_88265402330.csv')\n",
    "# test2 = np.array(test2)\n",
    "label2 = np.array(2)\n",
    "# print(test1, test2)\n",
    "print(test1.shape, label1, test2.shape, label2)\n",
    "# print(df)\n",
    "# tuplelist = [tuple(test1, test2) for test1, test2 in df.values]\n",
    "tuplelist = [[test1,test2],[label1,label2]]\n",
    "# print(tuplelist)"
   ]
  },
  {
   "cell_type": "code",
   "execution_count": null,
   "id": "circular-filing",
   "metadata": {},
   "outputs": [],
   "source": [
    "x, y = tuplelist\n",
    "x = np.array(x)\n",
    "y = np.array(y)\n",
    "print(x.shape, y.shape) #X.shape = [samples, timesteps, features]"
   ]
  }
 ],
 "metadata": {
  "kernelspec": {
   "display_name": "cuda10.2",
   "language": "python",
   "name": "cuda10.2"
  },
  "language_info": {
   "codemirror_mode": {
    "name": "ipython",
    "version": 3
   },
   "file_extension": ".py",
   "mimetype": "text/x-python",
   "name": "python",
   "nbconvert_exporter": "python",
   "pygments_lexer": "ipython3",
   "version": "3.7.0"
  }
 },
 "nbformat": 4,
 "nbformat_minor": 5
}