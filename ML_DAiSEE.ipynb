{
 "cells": [
  {
   "attachments": {},
   "cell_type": "markdown",
   "id": "cellular-michigan",
   "metadata": {},
   "source": [
    "## Classic Machine Learning on DAiSEE"
   ]
  },
  {
   "cell_type": "code",
   "execution_count": 1,
   "id": "professional-bridge",
   "metadata": {},
   "outputs": [],
   "source": [
    "import pickle\n",
    "import pandas as pd\n",
    "import numpy as np\n",
    "import pickle\n",
    "\n",
    "from sklearn.preprocessing import StandardScaler, LabelEncoder\n",
    "from sklearn.pipeline import make_pipeline, Pipeline\n",
    "from sklearn.ensemble import RandomForestRegressor\n",
    "from xgboost import XGBRegressor\n",
    "from sklearn.linear_model import LogisticRegression\n",
    "from sklearn.neighbors import KNeighborsRegressor\n",
    "from sklearn.tree import DecisionTreeRegressor\n",
    "from sklearn.svm import SVR\n",
    "from sklearn.naive_bayes import MultinomialNB, GaussianNB\n",
    "from sklearn.metrics import mean_absolute_error, mean_squared_error, accuracy_score\n",
    "from tensorflow.keras.utils import to_categorical\n",
    "from sklearn.model_selection import KFold, cross_val_score, cross_validate\n",
    "from sklearn.decomposition import PCA, KernelPCA\n",
    "from datetime import datetime\n",
    "\n",
    "import matplotlib.pyplot as plt\n",
    "import seaborn as sns"
   ]
  },
  {
   "cell_type": "markdown",
   "id": "b23f9b7d",
   "metadata": {},
   "source": [
    "Input Data"
   ]
  },
  {
   "cell_type": "code",
   "execution_count": 2,
   "id": "steady-northwest",
   "metadata": {},
   "outputs": [],
   "source": [
    "# Eye gaze, Head pose, AU (EHA) data\n",
    "with open('daisee_openface/daisee_329dims_10timesteps.pkl','rb') as f:\n",
    "    X_train_all, X_val_all, X_test_all, X_train_all_scalled, X_val_all_scalled, X_test_all_scalled,Y_train, Y_val, Y_test = pickle.load(f)\n",
    "\n",
    "# Averaged-data (DAISEE)\n",
    "def load_data(datafile):\n",
    "    df = pd.read_csv(datafile)\n",
    "    df = df.drop(df.columns[0], axis=1)\n",
    "    return df\n",
    "\n",
    "df_train_av = load_data('daisee_openface/average_train.csv')\n",
    "df_val_av = load_data('daisee_openface/average_val.csv')\n",
    "df_test_av = load_data('daisee_openface/average_test.csv')\n",
    "df_all_av = pd.concat([df_train_av,df_val_av,df_test_av], axis=0, ignore_index=True)\n",
    "df_train = pd.concat([df_train_av,df_val_av], axis=0, ignore_index=True)\n",
    "\n",
    "# SPLIT features and Label\n",
    "def split_label(df):\n",
    "    df = np.array(df)\n",
    "    Y = df[:,-1]\n",
    "    Y_en = LabelEncoder().fit_transform(Y) #encode label value as label variable\n",
    "    Y_cat = to_categorical(Y)\n",
    "    X = df[:,0:-1]    \n",
    "    return X, Y_en, Y_cat\n",
    "\n",
    "X_train_av, y_train_av, y_train_av_cat = split_label(df_train_av)\n",
    "X_val_av, y_val_av, y_val_av_cat = split_label(df_val_av)\n",
    "X_test_av, y_test_av, y_test_av_cat = split_label(df_test_av)\n",
    "X_train, y_train, y_train_cat = split_label(df_train)\n",
    "X_all_av, Y_all_av, Y_all_av_cat = split_label(df_all_av)"
   ]
  },
  {
   "cell_type": "markdown",
   "id": "21e20c35",
   "metadata": {},
   "source": [
    "### PLOTS\n"
   ]
  },
  {
   "cell_type": "code",
   "execution_count": 1,
   "id": "bc8f0580",
   "metadata": {},
   "outputs": [],
   "source": [
    "sns.set_context('talk')\n",
    "sns.pairplot(df_test_av, hue='Engagement')"
   ]
  },
  {
   "cell_type": "code",
   "execution_count": null,
   "id": "96aee372",
   "metadata": {},
   "outputs": [
    {
     "name": "stdout",
     "output_type": "stream",
     "text": [
      "<class 'pandas.core.frame.DataFrame'>\n",
      "RangeIndex: 8571 entries, 0 to 8570\n",
      "Columns: 330 entries,  gaze_0_x to Engagement\n",
      "dtypes: float64(330)\n",
      "memory usage: 21.6 MB\n"
     ]
    }
   ],
   "source": [
    "df_all_av.info()"
   ]
  },
  {
   "cell_type": "markdown",
   "id": "opposed-restoration",
   "metadata": {},
   "source": [
    "### Models"
   ]
  },
  {
   "cell_type": "code",
   "execution_count": 10,
   "id": "optimum-little",
   "metadata": {},
   "outputs": [],
   "source": [
    "# REGRESSION models\n",
    "# model_1 = RandomForestRegressor(n_estimators=100, random_state=0)\n",
    "# model_2 = XGBRegressor(random_state=0, learning_rate=0.05)\n",
    "# model_3 = KNeighborsRegressor()\n",
    "# model_4 = DecisionTreeRegressor()\n",
    "# model_5 = SVR()\n",
    "# model_6 = GaussianNB()\n",
    "\n",
    "# CLASSIFICATION models\n",
    "model_1c = LogisticRegression()"
   ]
  },
  {
   "cell_type": "code",
   "execution_count": 5,
   "id": "02ebbb69",
   "metadata": {},
   "outputs": [],
   "source": [
    "pipeline = {\n",
    "    'LR':make_pipeline(StandardScaler(),LogisticRegression()),\n",
    "    'LR':make_pipeline(StandardScaler(),LogisticRegression())\n",
    "}"
   ]
  },
  {
   "cell_type": "code",
   "execution_count": 14,
   "id": "f33e73db",
   "metadata": {},
   "outputs": [
    {
     "name": "stdout",
     "output_type": "stream",
     "text": [
      "(6787, 329) (1784, 329)\n"
     ]
    }
   ],
   "source": [
    "print(X_train.shape, X_test_av.shape)"
   ]
  },
  {
   "cell_type": "code",
   "execution_count": 11,
   "id": "d7fc7f2e",
   "metadata": {},
   "outputs": [],
   "source": [
    "scaler = StandardScaler()\n",
    "X_train=scaler.fit_transform(X_train)\n",
    "X_test=scaler.transform(X_test_av)"
   ]
  },
  {
   "cell_type": "code",
   "execution_count": 12,
   "id": "60661d28",
   "metadata": {},
   "outputs": [
    {
     "name": "stderr",
     "output_type": "stream",
     "text": [
      "c:\\Users\\hasegawa-lab-pc\\miniconda3\\envs\\tf2.1\\lib\\site-packages\\sklearn\\linear_model\\_logistic.py:765: ConvergenceWarning: lbfgs failed to converge (status=1):\n",
      "STOP: TOTAL NO. of ITERATIONS REACHED LIMIT.\n",
      "\n",
      "Increase the number of iterations (max_iter) or scale the data as shown in:\n",
      "    https://scikit-learn.org/stable/modules/preprocessing.html\n",
      "Please also refer to the documentation for alternative solver options:\n",
      "    https://scikit-learn.org/stable/modules/linear_model.html#logistic-regression\n",
      "  extra_warning_msg=_LOGISTIC_SOLVER_CONVERGENCE_MSG)\n"
     ]
    },
    {
     "data": {
      "text/plain": [
       "LogisticRegression()"
      ]
     },
     "execution_count": 12,
     "metadata": {},
     "output_type": "execute_result"
    }
   ],
   "source": [
    "model_1c.fit(X_train,y_train)"
   ]
  },
  {
   "cell_type": "code",
   "execution_count": 13,
   "id": "3f6349ec",
   "metadata": {},
   "outputs": [
    {
     "name": "stdout",
     "output_type": "stream",
     "text": [
      "Processing time 0:00:00.001001\n",
      "LogisticRegression() 0.4966367713004484\n"
     ]
    }
   ],
   "source": [
    "tic = datetime.now()\n",
    "yhat = model_1c.predict(X_test)\n",
    "time= datetime.now() - tic\n",
    "print('Processing time {}'.format(time))\n",
    "print(model_1c, accuracy_score(y_test_av,yhat))"
   ]
  },
  {
   "cell_type": "code",
   "execution_count": 6,
   "id": "0a0997f8",
   "metadata": {},
   "outputs": [
    {
     "name": "stderr",
     "output_type": "stream",
     "text": [
      "c:\\Users\\hasegawa-lab-pc\\miniconda3\\envs\\tf2.1\\lib\\site-packages\\sklearn\\linear_model\\_logistic.py:765: ConvergenceWarning: lbfgs failed to converge (status=1):\n",
      "STOP: TOTAL NO. of ITERATIONS REACHED LIMIT.\n",
      "\n",
      "Increase the number of iterations (max_iter) or scale the data as shown in:\n",
      "    https://scikit-learn.org/stable/modules/preprocessing.html\n",
      "Please also refer to the documentation for alternative solver options:\n",
      "    https://scikit-learn.org/stable/modules/linear_model.html#logistic-regression\n",
      "  extra_warning_msg=_LOGISTIC_SOLVER_CONVERGENCE_MSG)\n"
     ]
    },
    {
     "ename": "ValueError",
     "evalue": "Expected 2D array, got 1D array instead:\narray=[2. 2. 2. ... 3. 3. 2.].\nReshape your data either using array.reshape(-1, 1) if your data has a single feature or array.reshape(1, -1) if it contains a single sample.",
     "output_type": "error",
     "traceback": [
      "\u001b[1;31m---------------------------------------------------------------------------\u001b[0m",
      "\u001b[1;31mValueError\u001b[0m                                Traceback (most recent call last)",
      "\u001b[1;32m<ipython-input-6-4f8f57ef5525>\u001b[0m in \u001b[0;36m<module>\u001b[1;34m\u001b[0m\n\u001b[0;32m      9\u001b[0m \u001b[1;32mfor\u001b[0m \u001b[0malgo\u001b[0m\u001b[1;33m,\u001b[0m \u001b[0mmodel\u001b[0m \u001b[1;32min\u001b[0m \u001b[0mfit_models\u001b[0m\u001b[1;33m.\u001b[0m\u001b[0mitems\u001b[0m\u001b[1;33m(\u001b[0m\u001b[1;33m)\u001b[0m\u001b[1;33m:\u001b[0m\u001b[1;33m\u001b[0m\u001b[0m\n\u001b[0;32m     10\u001b[0m     \u001b[0mtic\u001b[0m \u001b[1;33m=\u001b[0m \u001b[0mdatetime\u001b[0m\u001b[1;33m.\u001b[0m\u001b[0mnow\u001b[0m\u001b[1;33m(\u001b[0m\u001b[1;33m)\u001b[0m\u001b[1;33m\u001b[0m\u001b[0m\n\u001b[1;32m---> 11\u001b[1;33m     \u001b[0myhat\u001b[0m \u001b[1;33m=\u001b[0m \u001b[0mmodel\u001b[0m\u001b[1;33m.\u001b[0m\u001b[0mpredict\u001b[0m\u001b[1;33m(\u001b[0m\u001b[0my_test_av\u001b[0m\u001b[1;33m)\u001b[0m\u001b[1;33m\u001b[0m\u001b[0m\n\u001b[0m\u001b[0;32m     12\u001b[0m \u001b[1;33m\u001b[0m\u001b[0m\n\u001b[0;32m     13\u001b[0m     \u001b[0mtime\u001b[0m \u001b[1;33m=\u001b[0m \u001b[0mdatetime\u001b[0m\u001b[1;33m.\u001b[0m\u001b[0mnow\u001b[0m\u001b[1;33m(\u001b[0m\u001b[1;33m)\u001b[0m \u001b[1;33m-\u001b[0m \u001b[0mtic\u001b[0m\u001b[1;33m\u001b[0m\u001b[0m\n",
      "\u001b[1;32mc:\\Users\\hasegawa-lab-pc\\miniconda3\\envs\\tf2.1\\lib\\site-packages\\sklearn\\utils\\metaestimators.py\u001b[0m in \u001b[0;36m<lambda>\u001b[1;34m(*args, **kwargs)\u001b[0m\n\u001b[0;32m    118\u001b[0m \u001b[1;33m\u001b[0m\u001b[0m\n\u001b[0;32m    119\u001b[0m         \u001b[1;31m# lambda, but not partial, allows help() to work with update_wrapper\u001b[0m\u001b[1;33m\u001b[0m\u001b[1;33m\u001b[0m\u001b[0m\n\u001b[1;32m--> 120\u001b[1;33m         \u001b[0mout\u001b[0m \u001b[1;33m=\u001b[0m \u001b[1;32mlambda\u001b[0m \u001b[1;33m*\u001b[0m\u001b[0margs\u001b[0m\u001b[1;33m,\u001b[0m \u001b[1;33m**\u001b[0m\u001b[0mkwargs\u001b[0m\u001b[1;33m:\u001b[0m \u001b[0mself\u001b[0m\u001b[1;33m.\u001b[0m\u001b[0mfn\u001b[0m\u001b[1;33m(\u001b[0m\u001b[0mobj\u001b[0m\u001b[1;33m,\u001b[0m \u001b[1;33m*\u001b[0m\u001b[0margs\u001b[0m\u001b[1;33m,\u001b[0m \u001b[1;33m**\u001b[0m\u001b[0mkwargs\u001b[0m\u001b[1;33m)\u001b[0m\u001b[1;33m\u001b[0m\u001b[0m\n\u001b[0m\u001b[0;32m    121\u001b[0m         \u001b[1;31m# update the docstring of the returned function\u001b[0m\u001b[1;33m\u001b[0m\u001b[1;33m\u001b[0m\u001b[0m\n\u001b[0;32m    122\u001b[0m         \u001b[0mupdate_wrapper\u001b[0m\u001b[1;33m(\u001b[0m\u001b[0mout\u001b[0m\u001b[1;33m,\u001b[0m \u001b[0mself\u001b[0m\u001b[1;33m.\u001b[0m\u001b[0mfn\u001b[0m\u001b[1;33m)\u001b[0m\u001b[1;33m\u001b[0m\u001b[0m\n",
      "\u001b[1;32mc:\\Users\\hasegawa-lab-pc\\miniconda3\\envs\\tf2.1\\lib\\site-packages\\sklearn\\pipeline.py\u001b[0m in \u001b[0;36mpredict\u001b[1;34m(self, X, **predict_params)\u001b[0m\n\u001b[0;32m    416\u001b[0m         \u001b[0mXt\u001b[0m \u001b[1;33m=\u001b[0m \u001b[0mX\u001b[0m\u001b[1;33m\u001b[0m\u001b[0m\n\u001b[0;32m    417\u001b[0m         \u001b[1;32mfor\u001b[0m \u001b[0m_\u001b[0m\u001b[1;33m,\u001b[0m \u001b[0mname\u001b[0m\u001b[1;33m,\u001b[0m \u001b[0mtransform\u001b[0m \u001b[1;32min\u001b[0m \u001b[0mself\u001b[0m\u001b[1;33m.\u001b[0m\u001b[0m_iter\u001b[0m\u001b[1;33m(\u001b[0m\u001b[0mwith_final\u001b[0m\u001b[1;33m=\u001b[0m\u001b[1;32mFalse\u001b[0m\u001b[1;33m)\u001b[0m\u001b[1;33m:\u001b[0m\u001b[1;33m\u001b[0m\u001b[0m\n\u001b[1;32m--> 418\u001b[1;33m             \u001b[0mXt\u001b[0m \u001b[1;33m=\u001b[0m \u001b[0mtransform\u001b[0m\u001b[1;33m.\u001b[0m\u001b[0mtransform\u001b[0m\u001b[1;33m(\u001b[0m\u001b[0mXt\u001b[0m\u001b[1;33m)\u001b[0m\u001b[1;33m\u001b[0m\u001b[0m\n\u001b[0m\u001b[0;32m    419\u001b[0m         \u001b[1;32mreturn\u001b[0m \u001b[0mself\u001b[0m\u001b[1;33m.\u001b[0m\u001b[0msteps\u001b[0m\u001b[1;33m[\u001b[0m\u001b[1;33m-\u001b[0m\u001b[1;36m1\u001b[0m\u001b[1;33m]\u001b[0m\u001b[1;33m[\u001b[0m\u001b[1;33m-\u001b[0m\u001b[1;36m1\u001b[0m\u001b[1;33m]\u001b[0m\u001b[1;33m.\u001b[0m\u001b[0mpredict\u001b[0m\u001b[1;33m(\u001b[0m\u001b[0mXt\u001b[0m\u001b[1;33m,\u001b[0m \u001b[1;33m**\u001b[0m\u001b[0mpredict_params\u001b[0m\u001b[1;33m)\u001b[0m\u001b[1;33m\u001b[0m\u001b[0m\n\u001b[0;32m    420\u001b[0m \u001b[1;33m\u001b[0m\u001b[0m\n",
      "\u001b[1;32mc:\\Users\\hasegawa-lab-pc\\miniconda3\\envs\\tf2.1\\lib\\site-packages\\sklearn\\preprocessing\\_data.py\u001b[0m in \u001b[0;36mtransform\u001b[1;34m(self, X, copy)\u001b[0m\n\u001b[0;32m    881\u001b[0m                                 \u001b[0maccept_sparse\u001b[0m\u001b[1;33m=\u001b[0m\u001b[1;34m'csr'\u001b[0m\u001b[1;33m,\u001b[0m \u001b[0mcopy\u001b[0m\u001b[1;33m=\u001b[0m\u001b[0mcopy\u001b[0m\u001b[1;33m,\u001b[0m\u001b[1;33m\u001b[0m\u001b[0m\n\u001b[0;32m    882\u001b[0m                                 \u001b[0mestimator\u001b[0m\u001b[1;33m=\u001b[0m\u001b[0mself\u001b[0m\u001b[1;33m,\u001b[0m \u001b[0mdtype\u001b[0m\u001b[1;33m=\u001b[0m\u001b[0mFLOAT_DTYPES\u001b[0m\u001b[1;33m,\u001b[0m\u001b[1;33m\u001b[0m\u001b[0m\n\u001b[1;32m--> 883\u001b[1;33m                                 force_all_finite='allow-nan')\n\u001b[0m\u001b[0;32m    884\u001b[0m \u001b[1;33m\u001b[0m\u001b[0m\n\u001b[0;32m    885\u001b[0m         \u001b[1;32mif\u001b[0m \u001b[0msparse\u001b[0m\u001b[1;33m.\u001b[0m\u001b[0missparse\u001b[0m\u001b[1;33m(\u001b[0m\u001b[0mX\u001b[0m\u001b[1;33m)\u001b[0m\u001b[1;33m:\u001b[0m\u001b[1;33m\u001b[0m\u001b[0m\n",
      "\u001b[1;32mc:\\Users\\hasegawa-lab-pc\\miniconda3\\envs\\tf2.1\\lib\\site-packages\\sklearn\\base.py\u001b[0m in \u001b[0;36m_validate_data\u001b[1;34m(self, X, y, reset, validate_separately, **check_params)\u001b[0m\n\u001b[0;32m    419\u001b[0m             \u001b[0mout\u001b[0m \u001b[1;33m=\u001b[0m \u001b[0mX\u001b[0m\u001b[1;33m\u001b[0m\u001b[0m\n\u001b[0;32m    420\u001b[0m         \u001b[1;32melif\u001b[0m \u001b[0misinstance\u001b[0m\u001b[1;33m(\u001b[0m\u001b[0my\u001b[0m\u001b[1;33m,\u001b[0m \u001b[0mstr\u001b[0m\u001b[1;33m)\u001b[0m \u001b[1;32mand\u001b[0m \u001b[0my\u001b[0m \u001b[1;33m==\u001b[0m \u001b[1;34m'no_validation'\u001b[0m\u001b[1;33m:\u001b[0m\u001b[1;33m\u001b[0m\u001b[0m\n\u001b[1;32m--> 421\u001b[1;33m             \u001b[0mX\u001b[0m \u001b[1;33m=\u001b[0m \u001b[0mcheck_array\u001b[0m\u001b[1;33m(\u001b[0m\u001b[0mX\u001b[0m\u001b[1;33m,\u001b[0m \u001b[1;33m**\u001b[0m\u001b[0mcheck_params\u001b[0m\u001b[1;33m)\u001b[0m\u001b[1;33m\u001b[0m\u001b[0m\n\u001b[0m\u001b[0;32m    422\u001b[0m             \u001b[0mout\u001b[0m \u001b[1;33m=\u001b[0m \u001b[0mX\u001b[0m\u001b[1;33m\u001b[0m\u001b[0m\n\u001b[0;32m    423\u001b[0m         \u001b[1;32melse\u001b[0m\u001b[1;33m:\u001b[0m\u001b[1;33m\u001b[0m\u001b[0m\n",
      "\u001b[1;32mc:\\Users\\hasegawa-lab-pc\\miniconda3\\envs\\tf2.1\\lib\\site-packages\\sklearn\\utils\\validation.py\u001b[0m in \u001b[0;36minner_f\u001b[1;34m(*args, **kwargs)\u001b[0m\n\u001b[0;32m     61\u001b[0m             \u001b[0mextra_args\u001b[0m \u001b[1;33m=\u001b[0m \u001b[0mlen\u001b[0m\u001b[1;33m(\u001b[0m\u001b[0margs\u001b[0m\u001b[1;33m)\u001b[0m \u001b[1;33m-\u001b[0m \u001b[0mlen\u001b[0m\u001b[1;33m(\u001b[0m\u001b[0mall_args\u001b[0m\u001b[1;33m)\u001b[0m\u001b[1;33m\u001b[0m\u001b[0m\n\u001b[0;32m     62\u001b[0m             \u001b[1;32mif\u001b[0m \u001b[0mextra_args\u001b[0m \u001b[1;33m<=\u001b[0m \u001b[1;36m0\u001b[0m\u001b[1;33m:\u001b[0m\u001b[1;33m\u001b[0m\u001b[0m\n\u001b[1;32m---> 63\u001b[1;33m                 \u001b[1;32mreturn\u001b[0m \u001b[0mf\u001b[0m\u001b[1;33m(\u001b[0m\u001b[1;33m*\u001b[0m\u001b[0margs\u001b[0m\u001b[1;33m,\u001b[0m \u001b[1;33m**\u001b[0m\u001b[0mkwargs\u001b[0m\u001b[1;33m)\u001b[0m\u001b[1;33m\u001b[0m\u001b[0m\n\u001b[0m\u001b[0;32m     64\u001b[0m \u001b[1;33m\u001b[0m\u001b[0m\n\u001b[0;32m     65\u001b[0m             \u001b[1;31m# extra_args > 0\u001b[0m\u001b[1;33m\u001b[0m\u001b[1;33m\u001b[0m\u001b[0m\n",
      "\u001b[1;32mc:\\Users\\hasegawa-lab-pc\\miniconda3\\envs\\tf2.1\\lib\\site-packages\\sklearn\\utils\\validation.py\u001b[0m in \u001b[0;36mcheck_array\u001b[1;34m(array, accept_sparse, accept_large_sparse, dtype, order, copy, force_all_finite, ensure_2d, allow_nd, ensure_min_samples, ensure_min_features, estimator)\u001b[0m\n\u001b[0;32m    639\u001b[0m                     \u001b[1;34m\"Reshape your data either using array.reshape(-1, 1) if \"\u001b[0m\u001b[1;33m\u001b[0m\u001b[0m\n\u001b[0;32m    640\u001b[0m                     \u001b[1;34m\"your data has a single feature or array.reshape(1, -1) \"\u001b[0m\u001b[1;33m\u001b[0m\u001b[0m\n\u001b[1;32m--> 641\u001b[1;33m                     \"if it contains a single sample.\".format(array))\n\u001b[0m\u001b[0;32m    642\u001b[0m \u001b[1;33m\u001b[0m\u001b[0m\n\u001b[0;32m    643\u001b[0m         \u001b[1;31m# make sure we actually converted to numeric:\u001b[0m\u001b[1;33m\u001b[0m\u001b[1;33m\u001b[0m\u001b[0m\n",
      "\u001b[1;31mValueError\u001b[0m: Expected 2D array, got 1D array instead:\narray=[2. 2. 2. ... 3. 3. 2.].\nReshape your data either using array.reshape(-1, 1) if your data has a single feature or array.reshape(1, -1) if it contains a single sample."
     ]
    }
   ],
   "source": [
    "fit_models = {}\n",
    "for algo, pipeline in pipeline.items():\n",
    "    model = pipeline.fit(X_train, y_train)\n",
    "    fit_models[algo] = model\n",
    "\n",
    "# print(fit_models)\n",
    "\n",
    "# 03. Evaluate and Serialize Model\n",
    "for algo, model in fit_models.items():\n",
    "    tic = datetime.now()\n",
    "    yhat = model.predict(y_test_av)\n",
    "    \n",
    "    time = datetime.now() - tic\n",
    "    print(\"Evaluation time:{}\".format(time))\n",
    "    print(algo, accuracy_score(y_test,yhat))"
   ]
  },
  {
   "cell_type": "code",
   "execution_count": 15,
   "id": "bigger-hybrid",
   "metadata": {},
   "outputs": [],
   "source": [
    "# PRE-Processing\n",
    "preprocess = Pipeline([('scaled', StandardScaler()), ('pca', PCA(n_components=90, whiten=True))])\n",
    "preprocessKPCA = Pipeline([('pca', KernelPCA(n_components=90)),('scaled', StandardScaler())])\n",
    "\n",
    "# https://www.kaggle.com/rakesh2711/multiple-models-using-pipeline/notebook\n",
    "pipe = []\n",
    "# pipe.append(('scaledRFG', (Pipeline([('scaled', StandardScaler()),('RGB', model_1)]))))\n",
    "# pipe.append(('scaled_pca_RFG', (Pipeline([('preprocess', preprocess),('RGB', model_1)]))))\n",
    "# pipe.append(('kpca_scaled_RFG', (Pipeline([('preprocessKPCA', preprocess),('RGB', model_1)]))))\n",
    "\n",
    "# pipe.append(('scaledXGBR', (Pipeline([('scaled', StandardScaler()),('XGBR', model_2)]))))\n",
    "# pipe.append(('scaled_pca_XGBR', (Pipeline([('preprocess', preprocess),('XGBR', model_2)]))))\n",
    "# pipe.append(('kpca_scaled_XGBR', (Pipeline([('preprocessKPCA', preprocess),('XGBR', model_2)]))))\n",
    "\n",
    "# pipe.append(('scaledKNN', (Pipeline([('scaled', StandardScaler()),('KNN', model_3)]))))\n",
    "# pipe.append(('scaled_pca_KNN', (Pipeline([('preprocess', preprocess),('KNN', model_3)]))))\n",
    "# pipe.append(('kpca_scaled_KNN', (Pipeline([('preprocessKPCA', preprocess),('KNN', model_3)]))))\n",
    "\n",
    "# pipe.append(('scaledDT', (Pipeline([('scaled', StandardScaler()),('DT', model_4)]))))\n",
    "# pipe.append(('scaled_pca_DT', (Pipeline([('preprocess', preprocess),('DT', model_4)]))))\n",
    "# pipe.append(('kpca_scaled_DT', (Pipeline([('preprocessKPCA', preprocess),('DT', model_4)]))))\n",
    "\n",
    "# pipe.append(('scaledSVR', (Pipeline([('scaled', StandardScaler()),('SVR', model_5)]))))\n",
    "# pipe.append(('scaled_pca_SVR', (Pipeline([('preprocess', preprocess),('SVR', model_5)]))))\n",
    "# pipe.append(('kpca_scaled_SVR', (Pipeline([('preprocessKPCA', preprocess),('SVR', model_5)]))))\n",
    "\n",
    "# pipe.append(('scaledGNB', (Pipeline([('scaled', StandardScaler()),('GNB', model_6)]))))\n",
    "# pipe.append(('scaled_pca_GNB', (Pipeline([('preprocess', preprocess),('GNB', model_6)]))))\n",
    "# pipe.append(('kpca_scaled_GNB', (Pipeline([('preprocessKPCA', preprocess),('GNB', model_6)]))))\n",
    "pipe.append(('scaledLR', (Pipeline([('scaled', StandardScaler()), ('LR', model_1c)]))))\n",
    "pipe.append(('scaled_pca_LR', (Pipeline([('preprocess', preprocess),('LR', model_1c)]))))"
   ]
  },
  {
   "cell_type": "code",
   "execution_count": 13,
   "id": "associate-davis",
   "metadata": {},
   "outputs": [],
   "source": [
    "def train_kf(X,Y):\n",
    "    model_name = []\n",
    "    results = []\n",
    "    # results_acc = []\n",
    "\n",
    "    for pipes, model in pipe:\n",
    "        kf = KFold(n_splits=2)\n",
    "        # cv_result = -1 * cross_val_score(model, X, Y, cv=kf, scoring='neg_mean_squared_error')\n",
    "        tic = datetime.now()\n",
    "        cv_result = cross_val_score(model, X_all_av, Y_all_av, cv=kf, scoring='accuracy')\n",
    "        # cv_result = cross_val_score(model, X_train_all, Y_train, cv=kf, scoring='accuracy')\n",
    "        time = datetime.now() - tic\n",
    "        print(\"Training time:{}\".format(time))\n",
    "\n",
    "        results.append(cv_result)\n",
    "        model_name.append(pipes)\n",
    "        msg = \"%s: %f: (%f)\" % (model_name, cv_result.mean(), cv_result.std())\n",
    "        print(msg)  \n",
    "\n",
    "        \n",
    "\n",
    "    # PLOT Algorithm comparison\n",
    "    fig = plt.figure(figsize=(15,5))\n",
    "    fig.suptitle('Regression Algorithm Comparison (5-Fold CrossValidation)')\n",
    "    ax = fig.add_subplot(111)\n",
    "    plt.boxplot(results)\n",
    "    plt.xlabel('Model')\n",
    "    plt.ylabel('Accuracy')\n",
    "    ax.set_xticklabels(model_name)\n",
    "    plt.xticks(rotation=70)\n",
    "    plt.show()\n",
    "\n",
    "    return model_name, results"
   ]
  },
  {
   "cell_type": "code",
   "execution_count": 14,
   "id": "fd97ce18",
   "metadata": {},
   "outputs": [
    {
     "name": "stderr",
     "output_type": "stream",
     "text": [
      "c:\\Users\\hasegawa-lab-pc\\miniconda3\\envs\\tf2.1\\lib\\site-packages\\sklearn\\linear_model\\_logistic.py:765: ConvergenceWarning: lbfgs failed to converge (status=1):\n",
      "STOP: TOTAL NO. of ITERATIONS REACHED LIMIT.\n",
      "\n",
      "Increase the number of iterations (max_iter) or scale the data as shown in:\n",
      "    https://scikit-learn.org/stable/modules/preprocessing.html\n",
      "Please also refer to the documentation for alternative solver options:\n",
      "    https://scikit-learn.org/stable/modules/linear_model.html#logistic-regression\n",
      "  extra_warning_msg=_LOGISTIC_SOLVER_CONVERGENCE_MSG)\n",
      "c:\\Users\\hasegawa-lab-pc\\miniconda3\\envs\\tf2.1\\lib\\site-packages\\sklearn\\linear_model\\_logistic.py:765: ConvergenceWarning: lbfgs failed to converge (status=1):\n",
      "STOP: TOTAL NO. of ITERATIONS REACHED LIMIT.\n",
      "\n",
      "Increase the number of iterations (max_iter) or scale the data as shown in:\n",
      "    https://scikit-learn.org/stable/modules/preprocessing.html\n",
      "Please also refer to the documentation for alternative solver options:\n",
      "    https://scikit-learn.org/stable/modules/linear_model.html#logistic-regression\n",
      "  extra_warning_msg=_LOGISTIC_SOLVER_CONVERGENCE_MSG)\n"
     ]
    },
    {
     "name": "stdout",
     "output_type": "stream",
     "text": [
      "Training time:0:00:00.590000\n",
      "['scaledLR']: 0.490958: (0.002043)\n",
      "Training time:0:00:00.542999\n",
      "['scaledLR', 'scaled_pca_LR']: 0.493874: (0.007293)\n"
     ]
    },
    {
     "name": "stderr",
     "output_type": "stream",
     "text": [
      "c:\\Users\\hasegawa-lab-pc\\miniconda3\\envs\\tf2.1\\lib\\site-packages\\sklearn\\linear_model\\_logistic.py:765: ConvergenceWarning: lbfgs failed to converge (status=1):\n",
      "STOP: TOTAL NO. of ITERATIONS REACHED LIMIT.\n",
      "\n",
      "Increase the number of iterations (max_iter) or scale the data as shown in:\n",
      "    https://scikit-learn.org/stable/modules/preprocessing.html\n",
      "Please also refer to the documentation for alternative solver options:\n",
      "    https://scikit-learn.org/stable/modules/linear_model.html#logistic-regression\n",
      "  extra_warning_msg=_LOGISTIC_SOLVER_CONVERGENCE_MSG)\n"
     ]
    },
    {
     "data": {
      "image/png": "[encoded data removed]",
      "text/plain": [
       "<Figure size 1500x500 with 1 Axes>"
      ]
     },
     "metadata": {},
     "output_type": "display_data"
    }
   ],
   "source": [
    "model_name, results = train_kf(X_all_av,Y_all_av)"
   ]
  },
  {
   "cell_type": "code",
   "execution_count": null,
   "id": "bc388df3",
   "metadata": {},
   "outputs": [],
   "source": [
    "# evaluation\n",
    "yhat = "
   ]
  },
  {
   "cell_type": "code",
   "execution_count": null,
   "id": "c637a5fe",
   "metadata": {},
   "outputs": [],
   "source": [
    "emotiw_model_name, emotiw_results = train_kf(X_emotiw, y_emotiw)"
   ]
  },
  {
   "cell_type": "code",
   "execution_count": null,
   "id": "pacific-flush",
   "metadata": {},
   "outputs": [],
   "source": []
  }
 ],
 "metadata": {
  "kernelspec": {
   "display_name": "tf2.1",
   "language": "python",
   "name": "python3"
  },
  "language_info": {
   "codemirror_mode": {
    "name": "ipython",
    "version": 3
   },
   "file_extension": ".py",
   "mimetype": "text/x-python",
   "name": "python",
   "nbconvert_exporter": "python",
   "pygments_lexer": "ipython3",
   "version": "3.7.0 (default, Jun 28 2018, 08:04:48) [MSC v.1912 64 bit (AMD64)]"
  },
  "vscode": {
   "interpreter": {
    "hash": "a56e715823444dc2e163ee5a214980cfeea0f46145d0f18bc3e87334620c745c"
   }
  }
 },
 "nbformat": 4,
 "nbformat_minor": 5
}
